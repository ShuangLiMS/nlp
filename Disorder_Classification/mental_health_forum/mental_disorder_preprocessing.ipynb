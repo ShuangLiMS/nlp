{
 "cells": [
  {
   "cell_type": "code",
   "execution_count": 1,
   "metadata": {},
   "outputs": [
    {
     "name": "stderr",
     "output_type": "stream",
     "text": [
      "/Users/sli/.pyenv/versions/3.6.0/lib/python3.6/importlib/_bootstrap.py:205: RuntimeWarning: numpy.dtype size changed, may indicate binary incompatibility. Expected 96, got 88\n",
      "  return f(*args, **kwds)\n",
      "/Users/sli/.pyenv/versions/3.6.0/lib/python3.6/importlib/_bootstrap.py:205: RuntimeWarning: numpy.dtype size changed, may indicate binary incompatibility. Expected 96, got 88\n",
      "  return f(*args, **kwds)\n"
     ]
    },
    {
     "name": "stdout",
     "output_type": "stream",
     "text": [
      "[nltk_data] Downloading package punkt to /Users/sli/nltk_data...\n",
      "[nltk_data]   Package punkt is already up-to-date!\n"
     ]
    }
   ],
   "source": [
    "import pandas as pd\n",
    "import regex as re\n",
    "import numpy as np\n",
    "from collections import Counter\n",
    "import nltk\n",
    "nltk.download('punkt')\n",
    "import jamspell\n",
    "import warnings\n",
    "warnings.filterwarnings('ignore')\n",
    "\n",
    "import matplotlib.pyplot as plt\n",
    "% matplotlib inline"
   ]
  },
  {
   "cell_type": "code",
   "execution_count": 2,
   "metadata": {},
   "outputs": [],
   "source": [
    "# Load in raw threads\n",
    "data_path = '/Users/sli/Projects/data/mental_health_forum_data/'\n",
    "filename = data_path + 'label_and_description.csv'\n",
    "\n",
    "df = pd.read_csv(filename,usecols=['label', 'dialog'] )"
   ]
  },
  {
   "cell_type": "code",
   "execution_count": 3,
   "metadata": {},
   "outputs": [],
   "source": [
    "test_dialog = df.dialog[0]"
   ]
  },
  {
   "cell_type": "code",
   "execution_count": 4,
   "metadata": {},
   "outputs": [],
   "source": [
    "# Preprocess paragraph\n",
    "# Remove the extrac ., .., ! etc.\n",
    "def preprocess(paragraph):\n",
    "    return \" \".join(re.split(r\"\\s+|[!,;:?.'-]\\s*\", paragraph))\n",
    "\n",
    "# Create customized tokenize function\n",
    "# -- Remove numbers\n",
    "# -- Simplify long words\n",
    "# -- Find the common stem\n",
    "from nltk.tokenize import casual_tokenize\n",
    "from nltk.stem.porter import PorterStemmer\n",
    "\n",
    "def tokenize(text):\n",
    "    \n",
    "    tokens = [word for word in casual_tokenize(preprocess(text), reduce_len=True, strip_handles=True) if not (bool(re.search(r'\\d', word) or len(word)>10))]\n",
    "    stemmer = PorterStemmer()\n",
    "    stems = [stemmer.stem(item) for item in tokens]\n",
    "    \n",
    "    return stems"
   ]
  },
  {
   "cell_type": "code",
   "execution_count": 5,
   "metadata": {},
   "outputs": [
    {
     "data": {
      "text/plain": [
       "True"
      ]
     },
     "execution_count": 5,
     "metadata": {},
     "output_type": "execute_result"
    }
   ],
   "source": [
    "corrector = jamspell.TSpellCorrector()\n",
    "corrector.LoadLangModel('model_en.bin')"
   ]
  },
  {
   "cell_type": "code",
   "execution_count": 6,
   "metadata": {},
   "outputs": [
    {
     "data": {
      "text/plain": [
       "['Hi all  I unfortunately think I hear stuff .',\n",
       " \"What 's the best way to block them out ?\",\n",
       " '.',\n",
       " 'Like .. without taking anti  psychotic medication ?',\n",
       " '.',\n",
       " 'If you know they are not real  and just ignore them  do they eventually just stop ?',\n",
       " '.',\n",
       " 'Thanks']"
      ]
     },
     "execution_count": 6,
     "metadata": {},
     "output_type": "execute_result"
    }
   ],
   "source": [
    "# Sentence parsing\n",
    "from nltk.tokenize import sent_tokenize\n",
    "text2 = df.dialog[8]\n",
    "sent_tokenize_list = sent_tokenize(text2)\n",
    "sent_tokenize_list"
   ]
  },
  {
   "cell_type": "code",
   "execution_count": 40,
   "metadata": {},
   "outputs": [
    {
     "data": {
      "text/plain": [
       "('unfortunately', 'unfortunatly')"
      ]
     },
     "execution_count": 40,
     "metadata": {},
     "output_type": "execute_result"
    }
   ],
   "source": [
    "corrector.GetCandidates(['unfortunatly'], 0)"
   ]
  },
  {
   "cell_type": "code",
   "execution_count": 34,
   "metadata": {},
   "outputs": [
    {
     "data": {
      "text/plain": [
       "('a', 's', 'd', 'i', 't', 'p', 'u', 'm', 'e', 'c', 'b', 'n', 'g', 'r', 'I')"
      ]
     },
     "execution_count": 34,
     "metadata": {},
     "output_type": "execute_result"
    }
   ],
   "source": [
    "corrector.GetCandidates(['i', 'unfortunately', 'thik', 'I', 'haar', 'stufff'], 3)"
   ]
  },
  {
   "cell_type": "code",
   "execution_count": 32,
   "metadata": {},
   "outputs": [],
   "source": [
    "test_list = ['Hi all  I unfrtunately thik I haar stufff .',\n",
    " \"What 's the bessst way to block them out ?\",\n",
    " '.',\n",
    " 'Like .. without takng anti  psychotic medication ?',\n",
    " '.',\n",
    " 'If you know they are not ral  and just ignre them  do they evenally just stooop ?',\n",
    " '.',\n",
    " 'Thaaks']"
   ]
  },
  {
   "cell_type": "code",
   "execution_count": 33,
   "metadata": {},
   "outputs": [
    {
     "name": "stdout",
     "output_type": "stream",
     "text": [
      "Hi all  I unfortunately this I haar stuff .\n",
      "What 's the best way to block them out ?\n",
      ".\n",
      "Like .. without taking anti  psychotic medication ?\n",
      ".\n",
      "If you know they are not real  and just ignore them  do they eventually just stooop ?\n",
      ".\n",
      "Thanks\n"
     ]
    }
   ],
   "source": [
    "for sent in test_list:\n",
    "    tokens = corrector.FixFragment(sent)\n",
    "    print (tokens)"
   ]
  },
  {
   "cell_type": "code",
   "execution_count": null,
   "metadata": {},
   "outputs": [],
   "source": [
    "corrector.GetCandidates(['i', 'am', 'the', 'dissapointment', 'spell', 'ruiening'], 4)"
   ]
  },
  {
   "cell_type": "code",
   "execution_count": 24,
   "metadata": {},
   "outputs": [
    {
     "data": {
      "text/plain": [
       "('hearing_voices',\n",
       " 'hi any advice on how to deal with voices injecting thoughts into your brain and helping you plan how to kill people  primarily your immediate family ?')"
      ]
     },
     "execution_count": 24,
     "metadata": {},
     "output_type": "execute_result"
    }
   ],
   "source": [
    "text2 = df.iloc[1]\n",
    "text2.label, text2.dialog"
   ]
  },
  {
   "cell_type": "code",
   "execution_count": 25,
   "metadata": {},
   "outputs": [
    {
     "data": {
      "text/plain": [
       "('depression',\n",
       " 'I been diagnosed with post dramatic stress disorder from a very abusive parents .A university is doing a survey on it so I put my name down to help find what goes on in peoples lives  well after 90 minutes of questions I felt physically sick  shaking  tense and basically shot to bits mentally .No I know why my psychiatrist does not want to talk about the actual abuse  it really does not help  makes things much worse .')"
      ]
     },
     "execution_count": 25,
     "metadata": {},
     "output_type": "execute_result"
    }
   ],
   "source": [
    "text2 = df.iloc[2]\n",
    "text2.label, text2.dialog"
   ]
  },
  {
   "cell_type": "code",
   "execution_count": 26,
   "metadata": {},
   "outputs": [
    {
     "data": {
      "text/plain": [
       "('bipolar',\n",
       " 'where have you dissapeared to ? ? ? ? ? ? ? ? ? ? ? ? ? ? ? ? ? ? Miss you xxxxxxxxxxxxxxxxxxx')"
      ]
     },
     "execution_count": 26,
     "metadata": {},
     "output_type": "execute_result"
    }
   ],
   "source": [
    "text2 = df.iloc[3]\n",
    "text2.label, text2.dialog"
   ]
  },
  {
   "cell_type": "code",
   "execution_count": 28,
   "metadata": {},
   "outputs": [
    {
     "data": {
      "text/plain": [
       "('anxiety',\n",
       " \"Every little anxiety does not need to immediately be doused in xanax . Psychologists Say Anxiety Is the ' Shadow ' of Intelligence  Science of Us\")"
      ]
     },
     "execution_count": 28,
     "metadata": {},
     "output_type": "execute_result"
    }
   ],
   "source": [
    "text2 = df.iloc[4]\n",
    "text2.label, text2.dialog"
   ]
  },
  {
   "cell_type": "code",
   "execution_count": 22,
   "metadata": {},
   "outputs": [
    {
     "data": {
      "text/plain": [
       "('Schizophrenia',\n",
       " \"The eye  catching title of the 2014 Paykel Lecture certainly lived up to its promise of a fascinating talk . Delivered by Dr Oliver Howes of the Institute of Psychiatry  Psychology and Neuroscience  IoPPN  King 's College London   the title made reference to an early paper on the dopamine hypothesis of schizophrenia  where dopamine was referred to as  the wind of the psychotic fire .  An eloquent review of the dopamine hypothesis followed  from the perspective of studies employing positron emission tomography  PET  and magnetic resonance imaging  MRI  . Dopamine is an important neurotransmitter  playing a crucial role in brain processes such as how we predict events and experience rewards . Its over  abundance in the brain has long been posited as a theory for the symptoms of psychosis seen in people with schizophrenia . Brain imaging techniques such as PET  which uses a radioactively labelled tracer  can help us obtain information about all aspects of the dopamine system . We can specifically study dopamine receptors  dopamine synthesis  its transportation or its release from neurons  and these methods have allowed scientists to pinpoint abnormalities in schizophrenia . Using this technology  Dr. Howes and colleagues studied people with schizophrenia who had received very little treatment  and found that the abnormality of dopamine appears to be at the level of synthesis and release from brain cells  rather than at the receptor as was initially believed . But this  Dr. Howes went on to explain  does not tell us whether schizophrenia is caused by an abnormality in dopamine regulation  or whether increased dopamine is a result of having schizophrenia . Therefore  his group decided to conduct research studies with a group of people who were at high risk of developing schizophrenia but do not yet show symptoms adequate for a diagnosis . These people are said to be in the prodromal  or sub  clinical  phase of schizophrenia . Whilst many go on to develop further symptoms  some remain stable at the sub  clinical phase and are able to function perfectly well . A prominent historical example of such a person  Dr. Howes explains  was Joan of Arc . Despite hearing voices  which she attributed to angels   she was able to lead the French army to victory over the British . Thus  using the same PET imaging techniques  Dr Howes and his team found elevated dopamine synthesis in the striatum of people with sub  clinical symptoms  which appeared to be around halfway between controls and people diagnosed with schizophrenia . Further investigation found that this increase in dopamine was in fact specific to those who would go on to develop a full clinical syndrome of schizophrenia  while those with long term sub  clinical symptoms did not demonstrate any increase in dopamine synthesis . Dopamine : Psychotic fire  starter ? The Paykel Lecture 2014  Department of Psychiatry\")"
      ]
     },
     "execution_count": 22,
     "metadata": {},
     "output_type": "execute_result"
    }
   ],
   "source": [
    "text2 = df.iloc[5]\n",
    "text2.label, text2.dialog"
   ]
  },
  {
   "cell_type": "code",
   "execution_count": 21,
   "metadata": {},
   "outputs": [
    {
     "data": {
      "text/plain": [
       "['The eye  catching title of the 2014 Paykel Lecture certainly lived up to its promise of a fascinating talk .',\n",
       " \"Delivered by Dr Oliver Howes of the Institute of Psychiatry  Psychology and Neuroscience  IoPPN  King 's College London   the title made reference to an early paper on the dopamine hypothesis of schizophrenia  where dopamine was referred to as  the wind of the psychotic fire .\",\n",
       " 'An eloquent review of the dopamine hypothesis followed  from the perspective of studies employing positron emission tomography  PET  and magnetic resonance imaging  MRI  .',\n",
       " 'Dopamine is an important neurotransmitter  playing a crucial role in brain processes such as how we predict events and experience rewards .',\n",
       " 'Its over  abundance in the brain has long been posited as a theory for the symptoms of psychosis seen in people with schizophrenia .',\n",
       " 'Brain imaging techniques such as PET  which uses a radioactively labelled tracer  can help us obtain information about all aspects of the dopamine system .',\n",
       " 'We can specifically study dopamine receptors  dopamine synthesis  its transportation or its release from neurons  and these methods have allowed scientists to pinpoint abnormalities in schizophrenia .',\n",
       " 'Using this technology  Dr. Howes and colleagues studied people with schizophrenia who had received very little treatment  and found that the abnormality of dopamine appears to be at the level of synthesis and release from brain cells  rather than at the receptor as was initially believed .',\n",
       " 'But this  Dr. Howes went on to explain  does not tell us whether schizophrenia is caused by an abnormality in dopamine regulation  or whether increased dopamine is a result of having schizophrenia .',\n",
       " 'Therefore  his group decided to conduct research studies with a group of people who were at high risk of developing schizophrenia but do not yet show symptoms adequate for a diagnosis .',\n",
       " 'These people are said to be in the prodromal  or sub  clinical  phase of schizophrenia .',\n",
       " 'Whilst many go on to develop further symptoms  some remain stable at the sub  clinical phase and are able to function perfectly well .',\n",
       " 'A prominent historical example of such a person  Dr. Howes explains  was Joan of Arc .',\n",
       " 'Despite hearing voices  which she attributed to angels   she was able to lead the French army to victory over the British .',\n",
       " 'Thus  using the same PET imaging techniques  Dr Howes and his team found elevated dopamine synthesis in the striatum of people with sub  clinical symptoms  which appeared to be around halfway between controls and people diagnosed with schizophrenia .',\n",
       " 'Further investigation found that this increase in dopamine was in fact specific to those who would go on to develop a full clinical syndrome of schizophrenia  while those with long term sub  clinical symptoms did not demonstrate any increase in dopamine synthesis .',\n",
       " 'Dopamine : Psychotic fire  starter ?',\n",
       " 'The Paykel Lecture 2014  Department of Psychiatry']"
      ]
     },
     "execution_count": 21,
     "metadata": {},
     "output_type": "execute_result"
    }
   ],
   "source": []
  },
  {
   "cell_type": "code",
   "execution_count": 30,
   "metadata": {},
   "outputs": [
    {
     "data": {
      "text/plain": [
       "('hearing_voices',\n",
       " \"If you all do not mind sharing with me I would like to hear what kind of voices each of you hear ? I usually hear adult voices . Usually many conversations and mumbling . Last night I heard a little girl 's voice by the age of three or four . I could not understand what she was saying  but it was interesting and very brief . Also what are your thoughts on hypnagogia ? ?  hallucinations in the midst of falling asleep  I have this very bad . I m wondering if it has anything to do with my psychosis   Thanks ! !\")"
      ]
     },
     "execution_count": 30,
     "metadata": {},
     "output_type": "execute_result"
    }
   ],
   "source": [
    "text2 = df.iloc[6]\n",
    "text2.label, text2.dialog"
   ]
  },
  {
   "cell_type": "code",
   "execution_count": 31,
   "metadata": {},
   "outputs": [
    {
     "data": {
      "text/plain": [
       "('bipolar',\n",
       " \"i just needed to get it out and now it 's all good . you guys do not need my life story shit sorry i was on a ramble\")"
      ]
     },
     "execution_count": 31,
     "metadata": {},
     "output_type": "execute_result"
    }
   ],
   "source": [
    "text2 = df.iloc[7]\n",
    "text2.label, text2.dialog"
   ]
  },
  {
   "cell_type": "code",
   "execution_count": 32,
   "metadata": {},
   "outputs": [
    {
     "data": {
      "text/plain": [
       "('hearing_voices',\n",
       " \"Hi all  I unfortunately think I hear stuff . What 's the best way to block them out ? . Like .. without taking anti  psychotic medication ? . If you know they are not real  and just ignore them  do they eventually just stop ? . Thanks\")"
      ]
     },
     "execution_count": 32,
     "metadata": {},
     "output_type": "execute_result"
    }
   ],
   "source": [
    "text2 = df.iloc[8]\n",
    "text2.label, text2.dialog"
   ]
  },
  {
   "cell_type": "code",
   "execution_count": 3,
   "metadata": {},
   "outputs": [],
   "source": [
    "# Word parsing"
   ]
  },
  {
   "cell_type": "code",
   "execution_count": 4,
   "metadata": {},
   "outputs": [],
   "source": [
    "# Deal with bad format word and wrong spelling"
   ]
  },
  {
   "cell_type": "code",
   "execution_count": null,
   "metadata": {},
   "outputs": [],
   "source": [
    "# Create word embeding"
   ]
  }
 ],
 "metadata": {
  "kernelspec": {
   "display_name": "Python 3",
   "language": "python",
   "name": "python3"
  },
  "language_info": {
   "codemirror_mode": {
    "name": "ipython",
    "version": 3
   },
   "file_extension": ".py",
   "mimetype": "text/x-python",
   "name": "python",
   "nbconvert_exporter": "python",
   "pygments_lexer": "ipython3",
   "version": "3.6.0"
  }
 },
 "nbformat": 4,
 "nbformat_minor": 2
}
