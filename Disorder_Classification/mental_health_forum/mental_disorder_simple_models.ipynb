{
 "cells": [
  {
   "cell_type": "markdown",
   "metadata": {},
   "source": [
    "Use threads from forum, create Naive Bayes classifier to predict the type of mental disorder"
   ]
  },
  {
   "cell_type": "code",
   "execution_count": 1,
   "metadata": {},
   "outputs": [
    {
     "name": "stderr",
     "output_type": "stream",
     "text": [
      "/Users/sli/.pyenv/versions/3.6.0/lib/python3.6/importlib/_bootstrap.py:205: RuntimeWarning: numpy.dtype size changed, may indicate binary incompatibility. Expected 96, got 88\n",
      "  return f(*args, **kwds)\n",
      "/Users/sli/.pyenv/versions/3.6.0/lib/python3.6/importlib/_bootstrap.py:205: RuntimeWarning: numpy.dtype size changed, may indicate binary incompatibility. Expected 96, got 88\n",
      "  return f(*args, **kwds)\n"
     ]
    },
    {
     "name": "stdout",
     "output_type": "stream",
     "text": [
      "[nltk_data] Downloading package punkt to /Users/sli/nltk_data...\n",
      "[nltk_data]   Package punkt is already up-to-date!\n"
     ]
    }
   ],
   "source": [
    "import pandas as pd\n",
    "import regex as re\n",
    "import numpy as np\n",
    "from collections import Counter\n",
    "import nltk\n",
    "from sklearn.metrics import f1_score\n",
    "nltk.download('punkt')\n",
    "import warnings\n",
    "import jamspell\n",
    "warnings.filterwarnings('ignore')\n",
    "from sklearn.feature_extraction.text import CountVectorizer\n",
    "\n",
    "import matplotlib.pyplot as plt\n",
    "% matplotlib inline"
   ]
  },
  {
   "cell_type": "code",
   "execution_count": 2,
   "metadata": {},
   "outputs": [],
   "source": [
    "# Import data\n",
    "data_path = '/Users/sli/Projects/data/mental_health_forum_data/'\n",
    "filename = data_path + 'label_and_description.csv'\n",
    "\n",
    "df = pd.read_csv(filename,usecols=['label', 'dialog'] )"
   ]
  },
  {
   "cell_type": "code",
   "execution_count": 3,
   "metadata": {
    "scrolled": false
   },
   "outputs": [
    {
     "data": {
      "text/plain": [
       "'i feel like i m a faliure at the moment i ca nt work and i feel like i m expected to be there fighting on and pretending that i am fine and that my world is nt upside down at the moment  that i do nt have a MH prob and that i m just a normal 22 year old with lots of friends and a great social life  . when acually what i m doing is sitting at home every day either running around like a headless chickin thinking i m on top of the world and i can fly and planning how to kill myself whilst i have the energy to then feeling so low and having no energy and just wanting to stay in bed and hide away from the world just keep my head under the covers keep the curtains closed and to go to sleep and die as i have no energy to do it myself .. i ca nt even have a relationship without messing it up my friendships well there s on a few of those that are stable i do nt really have much of a soical life other then seeing a few people not like loads of friends going out drinking   i ca nt even cut my arm proberly this evening i try to find something and i ca nt and i ca nt be bothered to go down stairs either so good thing then i m texting my friend anyway so the urge passes but i ve still tryed to do it so i m a faliur then .. ;. i know the deppression dosent help and lots of people feel similar to this but it still hurts never the less and i m a dissapointment to my dad i see it in his eyes every day he sees me which is every day he thinks i should be at work he looks at me now and i see it in his eyes the look that i m not really his daughter any more not the person i used to be  he is dissapointed that i m ruiening my career being off sick for so long or so often and he used to be proud of me but he is nt any more what is there to be pround of me for really what is there  i sit here typing this and crying because i want my daddy to be proud of me i do nt want to be a dissapointment to him any more  my thoughts are racing so much and i have all of these reasons coming into my head about why my dad ca nt be proud of me so now i must go and sleep i m sorry for another thread i just need to get these feelings out and i hope that at least one person mite be able to read this and just give me some sort of comforting words just to at least take the pain away briefly'"
      ]
     },
     "execution_count": 3,
     "metadata": {},
     "output_type": "execute_result"
    }
   ],
   "source": [
    "test_dialog = df.dialog[0]\n",
    "test_dialog"
   ]
  },
  {
   "cell_type": "code",
   "execution_count": 4,
   "metadata": {},
   "outputs": [],
   "source": [
    "# Preprocess paragraph\n",
    "# Remove the extrac ., .., ! etc.\n",
    "def preprocess(paragraph):\n",
    "    return \" \".join(re.split(r\"\\s+|[!,;:?.'-]\\s*\", paragraph))"
   ]
  },
  {
   "cell_type": "code",
   "execution_count": 5,
   "metadata": {},
   "outputs": [
    {
     "data": {
      "text/plain": [
       "False"
      ]
     },
     "execution_count": 5,
     "metadata": {},
     "output_type": "execute_result"
    }
   ],
   "source": [
    "corrector = jamspell.TSpellCorrector()\n",
    "corrector.LoadLangModel('model_en.bin')"
   ]
  },
  {
   "cell_type": "code",
   "execution_count": 8,
   "metadata": {},
   "outputs": [],
   "source": [
    "# Create customized tokenize function\n",
    "# -- Remove numbers\n",
    "# -- Simplify long words\n",
    "# -- Find the common stem\n",
    "from nltk.tokenize import casual_tokenize\n",
    "from nltk.stem.porter import PorterStemmer\n",
    "\n",
    "def tokenize(text, if_cap=False):\n",
    "    tokens = [word for word in casual_tokenize(preprocess(text), reduce_len=True, strip_handles=True)]\n",
    "                \n",
    "    stemmer = PorterStemmer()\n",
    "    stems = [stemmer.stem(item) for item in tokens]\n",
    "    \n",
    "    return stems"
   ]
  },
  {
   "cell_type": "code",
   "execution_count": 9,
   "metadata": {},
   "outputs": [],
   "source": [
    "# Create customized tokenize function\n",
    "# -- Remove numbers\n",
    "# -- Simplify long words\n",
    "# -- Perform spell correction based on single word\n",
    "# -- Find the common stem\n",
    "def spell_tokenize(text):\n",
    "    tokens = []\n",
    "    for word in casual_tokenize(preprocess(text), reduce_len=True, strip_handles=True):\n",
    "        if not (bool(re.search(r'\\d', word) or len(word)>10)):\n",
    "            corr_word = corrector.GetCandidates([word], 0)\n",
    "            if (len(corr_word) >0) and (corr_word[0] != word):\n",
    "                for candidate in corr_word[:1]:\n",
    "                    tokens.append(candidate)\n",
    "            else:\n",
    "                tokens.append(word)\n",
    "                \n",
    "    stemmer = PorterStemmer()\n",
    "    stems = [stemmer.stem(item) for item in tokens]\n",
    "    \n",
    "    return stems"
   ]
  },
  {
   "cell_type": "code",
   "execution_count": 10,
   "metadata": {},
   "outputs": [],
   "source": [
    "cat_num = 7\n",
    "max_rate = 1/cat_num\n",
    "min_rate = 1/(100*cat_num)\n",
    "cutoff_index = 10000\n",
    "corpus_train = []\n",
    "raw_label_train = []"
   ]
  },
  {
   "cell_type": "code",
   "execution_count": 11,
   "metadata": {},
   "outputs": [
    {
     "name": "stdout",
     "output_type": "stream",
     "text": [
      "feature size without spell correct: 29171\n"
     ]
    }
   ],
   "source": [
    "# Compare the effect with/without spell correction\n",
    "for i in range(cutoff_index):\n",
    "    corpus_train.append(df.dialog[i])\n",
    "    raw_label_train.append(df.label[i])\n",
    "\n",
    "cvectorizer_tok = CountVectorizer(analyzer='word', tokenizer=tokenize, stop_words='english', binary=True)\n",
    "count_data = cvectorizer_tok.fit_transform(corpus_train)\n",
    "count_data = np.array(count_data.todense())\n",
    "print(f\"feature size without spell correct: {count_data.shape[1]}\")\n",
    "\n",
    "# cvectorizer_spel_tok = CountVectorizer(analyzer='word', tokenizer=spell_tokenize, stop_words='english', min_df=min_rate, max_df=max_rate, binary=True)\n",
    "# count_spel_data = cvectorizer_spel_tok.fit_transform(corpus_train)\n",
    "# count_spel_data = np.array(count_spel_data.todense())\n",
    "# print(f\"feature size with spell correct: {count_spel_data.shape[1]}\")"
   ]
  },
  {
   "cell_type": "code",
   "execution_count": 26,
   "metadata": {},
   "outputs": [],
   "source": [
    "# feature_name = cvectorizer_tok.get_feature_names()\n",
    "# tt_count = np.sum(count_data, axis=0)\n",
    "# count_dict = dict(zip(feature_name, tt_count))"
   ]
  },
  {
   "cell_type": "code",
   "execution_count": 122,
   "metadata": {},
   "outputs": [],
   "source": [
    "# Obtain train and test group\n",
    "cutoff_index = int(len(df) * 0.8)"
   ]
  },
  {
   "cell_type": "code",
   "execution_count": 22,
   "metadata": {},
   "outputs": [
    {
     "name": "stdout",
     "output_type": "stream",
     "text": [
      "size of training data: (10000, 3551)\n"
     ]
    }
   ],
   "source": [
    "# Use CountVectorizer\n",
    "corpus_train = []\n",
    "raw_label_train = []\n",
    "for i in range(cutoff_index):\n",
    "    corpus_train.append(df.dialog[i])\n",
    "    raw_label_train.append(df.label[i])\n",
    "cvectorizer_tok = CountVectorizer(analyzer='word', tokenizer=tokenize, stop_words='english', min_df=min_rate, max_df=max_rate, binary=True)\n",
    "cvectorizer_tok = cvectorizer_tok.fit(corpus_train)\n",
    "train_count_data = cvectorizer_tok.transform(corpus_train)\n",
    "train_count_data = np.array(train_count_data.todense())\n",
    "print(f\"size of training data: {train_count_data.shape}\")"
   ]
  },
  {
   "cell_type": "code",
   "execution_count": 18,
   "metadata": {},
   "outputs": [],
   "source": [
    "# Remove words from test documents that is not in training data\n",
    "# Use a small portion of each text to take a test\n",
    "corpus_test = []\n",
    "raw_label_test = []\n",
    "for i in range(len(df)-cutoff_index):\n",
    "    corpus_test.append(df.dialog[cutoff_index+i])\n",
    "    raw_label_test.append(df.label[cutoff_index+i])\n",
    "test_count_data = cvectorizer_tok.transform(corpus_test)\n",
    "test_count_data = np.array(test_count_data.todense())\n",
    "print(f\"size of testing data: {test_count_data.shape}\")"
   ]
  },
  {
   "cell_type": "code",
   "execution_count": 24,
   "metadata": {},
   "outputs": [
    {
     "ename": "NotFittedError",
     "evalue": "idf vector is not fitted",
     "output_type": "error",
     "traceback": [
      "\u001b[0;31m---------------------------------------------------------------------------\u001b[0m",
      "\u001b[0;31mNotFittedError\u001b[0m                            Traceback (most recent call last)",
      "\u001b[0;32m<ipython-input-24-1edacfbad8c3>\u001b[0m in \u001b[0;36m<module>\u001b[0;34m()\u001b[0m\n\u001b[1;32m      2\u001b[0m \u001b[0;32mfrom\u001b[0m \u001b[0msklearn\u001b[0m\u001b[0;34m.\u001b[0m\u001b[0mfeature_extraction\u001b[0m\u001b[0;34m.\u001b[0m\u001b[0mtext\u001b[0m \u001b[0;32mimport\u001b[0m \u001b[0mTfidfTransformer\u001b[0m\u001b[0;34m\u001b[0m\u001b[0m\n\u001b[1;32m      3\u001b[0m \u001b[0mtvectorizer_tok\u001b[0m \u001b[0;34m=\u001b[0m \u001b[0mTfidfTransformer\u001b[0m\u001b[0;34m(\u001b[0m\u001b[0mcvectorizer_tok\u001b[0m\u001b[0;34m)\u001b[0m\u001b[0;34m\u001b[0m\u001b[0m\n\u001b[0;32m----> 4\u001b[0;31m \u001b[0mtrain_tfidf_data\u001b[0m \u001b[0;34m=\u001b[0m \u001b[0mtvectorizer_tok\u001b[0m\u001b[0;34m.\u001b[0m\u001b[0mtransform\u001b[0m\u001b[0;34m(\u001b[0m\u001b[0mtrain_count_data\u001b[0m\u001b[0;34m)\u001b[0m\u001b[0;34m\u001b[0m\u001b[0m\n\u001b[0m\u001b[1;32m      5\u001b[0m \u001b[0mtrain_tfidf_data\u001b[0m \u001b[0;34m=\u001b[0m \u001b[0mnp\u001b[0m\u001b[0;34m.\u001b[0m\u001b[0marray\u001b[0m\u001b[0;34m(\u001b[0m\u001b[0mtrain_tfidf_data\u001b[0m\u001b[0;34m.\u001b[0m\u001b[0mtodense\u001b[0m\u001b[0;34m(\u001b[0m\u001b[0;34m)\u001b[0m\u001b[0;34m)\u001b[0m\u001b[0;34m\u001b[0m\u001b[0m\n\u001b[1;32m      6\u001b[0m \u001b[0;34m\u001b[0m\u001b[0m\n",
      "\u001b[0;32m/usr/local/lib/python3.7/site-packages/sklearn/feature_extraction/text.py\u001b[0m in \u001b[0;36mtransform\u001b[0;34m(self, X, copy)\u001b[0m\n\u001b[1;32m   1101\u001b[0m \u001b[0;34m\u001b[0m\u001b[0m\n\u001b[1;32m   1102\u001b[0m         \u001b[0;32mif\u001b[0m \u001b[0mself\u001b[0m\u001b[0;34m.\u001b[0m\u001b[0muse_idf\u001b[0m\u001b[0;34m:\u001b[0m\u001b[0;34m\u001b[0m\u001b[0m\n\u001b[0;32m-> 1103\u001b[0;31m             \u001b[0mcheck_is_fitted\u001b[0m\u001b[0;34m(\u001b[0m\u001b[0mself\u001b[0m\u001b[0;34m,\u001b[0m \u001b[0;34m'_idf_diag'\u001b[0m\u001b[0;34m,\u001b[0m \u001b[0;34m'idf vector is not fitted'\u001b[0m\u001b[0;34m)\u001b[0m\u001b[0;34m\u001b[0m\u001b[0m\n\u001b[0m\u001b[1;32m   1104\u001b[0m \u001b[0;34m\u001b[0m\u001b[0m\n\u001b[1;32m   1105\u001b[0m             \u001b[0mexpected_n_features\u001b[0m \u001b[0;34m=\u001b[0m \u001b[0mself\u001b[0m\u001b[0;34m.\u001b[0m\u001b[0m_idf_diag\u001b[0m\u001b[0;34m.\u001b[0m\u001b[0mshape\u001b[0m\u001b[0;34m[\u001b[0m\u001b[0;36m0\u001b[0m\u001b[0;34m]\u001b[0m\u001b[0;34m\u001b[0m\u001b[0m\n",
      "\u001b[0;32m/usr/local/lib/python3.7/site-packages/sklearn/utils/validation.py\u001b[0m in \u001b[0;36mcheck_is_fitted\u001b[0;34m(estimator, attributes, msg, all_or_any)\u001b[0m\n\u001b[1;32m    766\u001b[0m \u001b[0;34m\u001b[0m\u001b[0m\n\u001b[1;32m    767\u001b[0m     \u001b[0;32mif\u001b[0m \u001b[0;32mnot\u001b[0m \u001b[0mall_or_any\u001b[0m\u001b[0;34m(\u001b[0m\u001b[0;34m[\u001b[0m\u001b[0mhasattr\u001b[0m\u001b[0;34m(\u001b[0m\u001b[0mestimator\u001b[0m\u001b[0;34m,\u001b[0m \u001b[0mattr\u001b[0m\u001b[0;34m)\u001b[0m \u001b[0;32mfor\u001b[0m \u001b[0mattr\u001b[0m \u001b[0;32min\u001b[0m \u001b[0mattributes\u001b[0m\u001b[0;34m]\u001b[0m\u001b[0;34m)\u001b[0m\u001b[0;34m:\u001b[0m\u001b[0;34m\u001b[0m\u001b[0m\n\u001b[0;32m--> 768\u001b[0;31m         \u001b[0;32mraise\u001b[0m \u001b[0mNotFittedError\u001b[0m\u001b[0;34m(\u001b[0m\u001b[0mmsg\u001b[0m \u001b[0;34m%\u001b[0m \u001b[0;34m{\u001b[0m\u001b[0;34m'name'\u001b[0m\u001b[0;34m:\u001b[0m \u001b[0mtype\u001b[0m\u001b[0;34m(\u001b[0m\u001b[0mestimator\u001b[0m\u001b[0;34m)\u001b[0m\u001b[0;34m.\u001b[0m\u001b[0m__name__\u001b[0m\u001b[0;34m}\u001b[0m\u001b[0;34m)\u001b[0m\u001b[0;34m\u001b[0m\u001b[0m\n\u001b[0m\u001b[1;32m    769\u001b[0m \u001b[0;34m\u001b[0m\u001b[0m\n\u001b[1;32m    770\u001b[0m \u001b[0;34m\u001b[0m\u001b[0m\n",
      "\u001b[0;31mNotFittedError\u001b[0m: idf vector is not fitted"
     ]
    }
   ],
   "source": [
    "# Use TfidfVectorizer\n",
    "from sklearn.feature_extraction.text import TfidfTransformer\n",
    "tvectorizer_tok = TfidfTransformer(cvectorizer_tok)\n",
    "train_tfidf_data = tvectorizer_tok.transform(train_count_data)\n",
    "train_tfidf_data = np.array(train_tfidf_data.todense())\n",
    "\n",
    "# Remove words from test documents that is not in training data\n",
    "# Use a small portion of each text to take a test\n",
    "corpus_test = []\n",
    "raw_label_test = []\n",
    "for i in range(len(df)-cutoff_index):\n",
    "    corpus_test.append(df.dialog[cutoff_index+i])\n",
    "    raw_label_test.append(df.label[cutoff_index+i])\n",
    "test_tfidf_data = tvectorizer_tok.transform(corpus_test)\n",
    "test_tfidf_data = np.array(test_tfidf_data.todense())\n",
    "print(f\"size of training data: {train_tfidf_data.shape}, size of testing data: {test_tfidf_data.shape}\")"
   ]
  },
  {
   "cell_type": "code",
   "execution_count": 25,
   "metadata": {},
   "outputs": [
    {
     "data": {
      "text/plain": [
       "10000"
      ]
     },
     "execution_count": 25,
     "metadata": {},
     "output_type": "execute_result"
    }
   ],
   "source": [
    "len(raw_label_train)"
   ]
  },
  {
   "cell_type": "code",
   "execution_count": 15,
   "metadata": {},
   "outputs": [],
   "source": [
    "from sklearn.preprocessing import LabelEncoder\n",
    "from sklearn.preprocessing import label_binarize\n",
    "label_encoder = LabelEncoder()\n",
    "encoded_label_train = label_encoder.fit_transform(raw_label_train)\n",
    "# encoded_label_test = label_encoder.fit_transform(\n",
    "# label_binary_train = label_binarize(y=encoded_label_train, classes=np.arange(7))\n",
    "# label_binary_test = label_binarize(y=encoded_label_test, classes=np.arange(7))"
   ]
  },
  {
   "cell_type": "code",
   "execution_count": 16,
   "metadata": {},
   "outputs": [
    {
     "data": {
      "text/plain": [
       "<bound method BaseEstimator.get_params of LabelEncoder()>"
      ]
     },
     "execution_count": 16,
     "metadata": {},
     "output_type": "execute_result"
    }
   ],
   "source": [
    "label_encoder."
   ]
  },
  {
   "cell_type": "code",
   "execution_count": 134,
   "metadata": {},
   "outputs": [
    {
     "data": {
      "image/png": "[encoded data removed]",
      "text/plain": [
       "<Figure size 432x288 with 1 Axes>"
      ]
     },
     "metadata": {},
     "output_type": "display_data"
    }
   ],
   "source": [
    "# Assess class balance issues\n",
    "counter_label = Counter(encoded_label_train)\n",
    "label_num = []\n",
    "label_count = []\n",
    "for i, j in zip(counter_label.keys(),counter_label.values()):\n",
    "    label_num.append(i)\n",
    "    label_count.append(j)\n",
    "\n",
    "fig = plt.figure()\n",
    "ordered_index = np.arange(7)\n",
    "label_name_num = [str(num)+':'+name for name, num, in zip(lable_encoder.inverse_transform(ordered_index), ordered_index)]\n",
    "label_counts = [count for _, count in sorted(zip(label_num, label_count))]\n",
    "plt.bar(label_name_num,label_counts)\n",
    "fig.autofmt_xdate()\n",
    "plt.tight_layout()"
   ]
  },
  {
   "cell_type": "code",
   "execution_count": null,
   "metadata": {},
   "outputs": [],
   "source": [
    "from sklearn.naive_bayes import MultinomialNB\n",
    "from sklearn.multiclass import OneVsRestClassifier\n",
    "\n",
    "nb = OneVsRestClassifier(MultinomialNB())\n",
    "nb = nb.fit(train_count_data, label_binary_train)\n",
    "y_train_count_predict = nb.predict(train_count_data)\n",
    "y_test_count_predict = nb.predict(test_count_data)\n",
    "\n",
    "train_count_label = np.argmax(label_binary_train, axis=1)\n",
    "train_count_predict = np.argmax(y_train_count_predict, axis=1)\n",
    "f1_train = f1_score(train_count_label, train_count_predict, average='weighted')\n",
    "print(f\"Training f1 score: {round(f1_train, 2)}\")\n",
    "\n",
    "test_label = np.argmax(label_binary_test, axis=1)\n",
    "predict_count_label = np.argmax(y_test_count_predict, axis=1)\n",
    "f1_test = f1_score(test_label, predict_count_label, average='weighted')\n",
    "print(f\"Testing f1 score: {round(f1_test, 2)}\")"
   ]
  },
  {
   "cell_type": "code",
   "execution_count": 126,
   "metadata": {},
   "outputs": [],
   "source": [
    "from sklearn import svm\n",
    "\n",
    "svm = svm.LinearSVC()\n",
    "svm = svm.fit(train_count_data, encoded_label_train)\n",
    "y_train_count_predict = svm.predict(train_count_data)\n",
    "y_test_count_predict = svm.predict(test_count_data)\n",
    "\n",
    "train_count_label = np.argmax(label_binary_train, axis=1)\n",
    "train_count_predict = y_train_count_predict\n",
    "f1_train = f1_score(train_count_label, train_count_predict, average='weighted')\n",
    "print(f\"Training f1 score: {round(f1_train, 2)}\")\n",
    "\n",
    "test_count_label = np.argmax(label_binary_test, axis=1)\n",
    "predict_count_label = y_test_count_predict\n",
    "f1_test = f1_score(test_count_label, predict_count_label, average='weighted')\n",
    "print(f\"Testing f1 score: {round(f1_test, 2)}\")"
   ]
  },
  {
   "cell_type": "code",
   "execution_count": 50,
   "metadata": {},
   "outputs": [
    {
     "name": "stdout",
     "output_type": "stream",
     "text": [
      "Training f1 score: 0.72\n",
      "Testing f1 score: 0.56\n"
     ]
    }
   ],
   "source": [
    "from sklearn.discriminant_analysis import LinearDiscriminantAnalysis\n",
    "\n",
    "lda = OneVsRestClassifier(LinearDiscriminantAnalysis())\n",
    "lda = lda.fit(train_tfidf_data, label_binary_train)\n",
    "y_train_tfidf_predict = lda.predict(train_tfidf_data)\n",
    "y_test_tfidf_predict = lda.predict(test_tfidf_data)\n",
    "\n",
    "train_tfidf_label = np.argmax(label_binary_train, axis=1)\n",
    "train_tfidf_predict = np.argmax(y_train_tfidf_predict, axis=1)\n",
    "f1_train = f1_score(train_tfidf_label, train_tfidf_predict, average='weighted')\n",
    "print(f\"Training f1 score: {round(f1_train, 2)}\")\n",
    "\n",
    "test_tfidf_label = np.argmax(label_binary_test, axis=1)\n",
    "predict_tfidf_label = np.argmax(y_test_tfidf_predict, axis=1)\n",
    "f1_test = f1_score(test_tfidf_label, predict_tfidf_label, average='weighted')\n",
    "print(f\"Testing f1 score: {round(f1_test, 2)}\")"
   ]
  },
  {
   "cell_type": "code",
   "execution_count": 130,
   "metadata": {},
   "outputs": [
    {
     "data": {
      "text/plain": [
       "(10000,)"
      ]
     },
     "execution_count": 130,
     "metadata": {},
     "output_type": "execute_result"
    }
   ],
   "source": [
    "encoded_label_train.shape"
   ]
  },
  {
   "cell_type": "code",
   "execution_count": 138,
   "metadata": {},
   "outputs": [
    {
     "name": "stdout",
     "output_type": "stream",
     "text": [
      "Training f1 score: 0.83\n",
      "Testing f1 score: 0.61\n"
     ]
    }
   ],
   "source": [
    "from sklearn import svm\n",
    "\n",
    "svm = svm.LinearSVC()\n",
    "svm = svm.fit(train_tfidf_data, encoded_label_train)\n",
    "y_train_tfidf_predict = svm.predict(train_tfidf_data)\n",
    "y_test_tfidf_predict = svm.predict(test_tfidf_data)\n",
    "\n",
    "train_tfidf_label = np.argmax(label_binary_train, axis=1)\n",
    "train_tfidf_predict = y_train_tfidf_predict\n",
    "f1_train = f1_score(train_tfidf_label, train_tfidf_predict, average=None)\n",
    "print(f\"Training f1 score: {round(np.mean(f1_train), 2)}\")\n",
    "\n",
    "test_tfidf_label = np.argmax(label_binary_test, axis=1)\n",
    "predict_tfidf_label = y_test_tfidf_predict\n",
    "f1_test = f1_score(test_tfidf_label, predict_tfidf_label, average=None)\n",
    "print(f\"Testing f1 score: {round(np.mean(f1_test), 2)}\")"
   ]
  },
  {
   "cell_type": "code",
   "execution_count": 139,
   "metadata": {},
   "outputs": [
    {
     "data": {
      "text/plain": [
       "array([0.85578069, 0.85193452, 0.78308365, 0.80948384, 0.76090101,\n",
       "       0.85817743, 0.86417273])"
      ]
     },
     "execution_count": 139,
     "metadata": {},
     "output_type": "execute_result"
    }
   ],
   "source": [
    "f1_train"
   ]
  },
  {
   "cell_type": "code",
   "execution_count": 140,
   "metadata": {},
   "outputs": [
    {
     "data": {
      "text/plain": [
       "array([0.56481481, 0.65690377, 0.53133159, 0.64262295, 0.55577769,\n",
       "       0.6340882 , 0.71850394])"
      ]
     },
     "execution_count": 140,
     "metadata": {},
     "output_type": "execute_result"
    }
   ],
   "source": [
    "f1_test"
   ]
  },
  {
   "cell_type": "code",
   "execution_count": 146,
   "metadata": {},
   "outputs": [
    {
     "data": {
      "image/png": "[encoded data removed]",
      "text/plain": [
       "<Figure size 432x288 with 1 Axes>"
      ]
     },
     "metadata": {},
     "output_type": "display_data"
    }
   ],
   "source": [
    "# Assess class balance issues\n",
    "counter_label = Counter(encoded_label_train)\n",
    "label_num = []\n",
    "label_count = []\n",
    "for i, j in zip(counter_label.keys(),counter_label.values()):\n",
    "    label_num.append(i)\n",
    "    label_count.append(j)\n",
    "\n",
    "fig = plt.figure()\n",
    "ordered_index = np.arange(7)\n",
    "label_name_num = [str(num)+':'+name for name, num, in zip(lable_encoder.inverse_transform(ordered_index), ordered_index)]\n",
    "label_counts = [count for _, count in sorted(zip(label_num, label_count))]\n",
    "plt.bar(label_name_num,label_counts)\n",
    "fig.autofmt_xdate()\n",
    "plt.tight_layout()"
   ]
  },
  {
   "cell_type": "code",
   "execution_count": 145,
   "metadata": {},
   "outputs": [
    {
     "data": {
      "image/png": "[encoded data removed]",
      "text/plain": [
       "<Figure size 432x288 with 1 Axes>"
      ]
     },
     "metadata": {},
     "output_type": "display_data"
    }
   ],
   "source": [
    "fig = plt.figure()\n",
    "plt.bar(label_name_num, f1_train)\n",
    "plt.bar(label_name_num, f1_test)\n",
    "fig.autofmt_xdate()\n",
    "plt.tight_layout()"
   ]
  },
  {
   "cell_type": "code",
   "execution_count": 181,
   "metadata": {},
   "outputs": [],
   "source": [
    "feature_names = tvectorizer_tok.get_feature_names()\n",
    "disorder_dict = dict()\n",
    "for i in range(svm.coef_.shape[0]):\n",
    "    coef = np.round(np.abs(svm.coef_[i,:]), 2)\n",
    "    feature_idx = coef.argsort()[-10:][::-1]\n",
    "    key_feature = [{feature_names[i]: coef[i]} for i in feature_idx]\n",
    "    disorder_dict[label_name_num[i].split(':')[-1]] = key_feature"
   ]
  },
  {
   "cell_type": "code",
   "execution_count": 184,
   "metadata": {},
   "outputs": [
    {
     "data": {
      "text/html": [
       "<div>\n",
       "<style scoped>\n",
       "    .dataframe tbody tr th:only-of-type {\n",
       "        vertical-align: middle;\n",
       "    }\n",
       "\n",
       "    .dataframe tbody tr th {\n",
       "        vertical-align: top;\n",
       "    }\n",
       "\n",
       "    .dataframe thead th {\n",
       "        text-align: right;\n",
       "    }\n",
       "</style>\n",
       "<table border=\"1\" class=\"dataframe\">\n",
       "  <thead>\n",
       "    <tr style=\"text-align: right;\">\n",
       "      <th></th>\n",
       "      <th>PTSD</th>\n",
       "      <th>Schizophrenia</th>\n",
       "      <th>anxiety</th>\n",
       "      <th>bipolar</th>\n",
       "      <th>depression</th>\n",
       "      <th>hearing_voices</th>\n",
       "      <th>self_harm</th>\n",
       "    </tr>\n",
       "  </thead>\n",
       "  <tbody>\n",
       "    <tr>\n",
       "      <th>0</th>\n",
       "      <td>{'ptsd': 5.1}</td>\n",
       "      <td>{'schizophrenia': 8.24}</td>\n",
       "      <td>{'schizophrenia': 4.06}</td>\n",
       "      <td>{'bipolar': 7.43}</td>\n",
       "      <td>{'schizophrenia': 5.7}</td>\n",
       "      <td>{'voic': 6.07}</td>\n",
       "      <td>{'sh': 5.5}</td>\n",
       "    </tr>\n",
       "    <tr>\n",
       "      <th>1</th>\n",
       "      <td>{'flashback': 3.38}</td>\n",
       "      <td>{'schizophren': 4.11}</td>\n",
       "      <td>{'bipolar': 3.69}</td>\n",
       "      <td>{'schizophrenia': 6.21}</td>\n",
       "      <td>{'bipolar': 4.17}</td>\n",
       "      <td>{'schizophrenia': 3.43}</td>\n",
       "      <td>{'harm': 4.5}</td>\n",
       "    </tr>\n",
       "    <tr>\n",
       "      <th>2</th>\n",
       "      <td>{'trauma': 2.74}</td>\n",
       "      <td>{'bipolar': 3.5}</td>\n",
       "      <td>{'voic': 3.22}</td>\n",
       "      <td>{'manic': 4.21}</td>\n",
       "      <td>{'voic': 3.43}</td>\n",
       "      <td>{'intervoic': 2.83}</td>\n",
       "      <td>{'scar': 3.61}</td>\n",
       "    </tr>\n",
       "    <tr>\n",
       "      <th>3</th>\n",
       "      <td>{'traumat': 2.34}</td>\n",
       "      <td>{'delus': 3.17}</td>\n",
       "      <td>{'anxiou': 3.19}</td>\n",
       "      <td>{'stan': 3.99}</td>\n",
       "      <td>{'schizophren': 3.21}</td>\n",
       "      <td>{'hear': 2.38}</td>\n",
       "      <td>{'harmer': 3.01}</td>\n",
       "    </tr>\n",
       "    <tr>\n",
       "      <th>4</th>\n",
       "      <td>{'rape': 2.31}</td>\n",
       "      <td>{'risperd': 2.51}</td>\n",
       "      <td>{'sh': 2.72}</td>\n",
       "      <td>{'voic': 3.13}</td>\n",
       "      <td>{'ptsd': 2.64}</td>\n",
       "      <td>{'dialogu': 2.14}</td>\n",
       "      <td>{'si': 2.87}</td>\n",
       "    </tr>\n",
       "    <tr>\n",
       "      <th>5</th>\n",
       "      <td>{'emdr': 2.13}</td>\n",
       "      <td>{'manic': 2.41}</td>\n",
       "      <td>{'gad': 2.7}</td>\n",
       "      <td>{'schizophren': 2.97}</td>\n",
       "      <td>{'stabilis': 2.35}</td>\n",
       "      <td>{'hearer': 2.03}</td>\n",
       "      <td>{'urg': 2.73}</td>\n",
       "    </tr>\n",
       "    <tr>\n",
       "      <th>6</th>\n",
       "      <td>{'schizophrenia': 1.94}</td>\n",
       "      <td>{'psychosi': 2.34}</td>\n",
       "      <td>{'panic': 2.7}</td>\n",
       "      <td>{'polar': 2.85}</td>\n",
       "      <td>{'grandfath': 2.32}</td>\n",
       "      <td>{'bipolar': 1.94}</td>\n",
       "      <td>{'shing': 2.6}</td>\n",
       "    </tr>\n",
       "    <tr>\n",
       "      <th>7</th>\n",
       "      <td>{'voic': 1.76}</td>\n",
       "      <td>{'overlap': 2.33}</td>\n",
       "      <td>{'delus': 2.23}</td>\n",
       "      <td>{'cyclothymia': 2.84}</td>\n",
       "      <td>{'sh': 2.27}</td>\n",
       "      <td>{'shake': 1.92}</td>\n",
       "      <td>{'implement': 2.57}</td>\n",
       "    </tr>\n",
       "    <tr>\n",
       "      <th>8</th>\n",
       "      <td>{'dissoci': 1.74}</td>\n",
       "      <td>{'depot': 2.31}</td>\n",
       "      <td>{'xanax': 2.23}</td>\n",
       "      <td>{'hh': 2.84}</td>\n",
       "      <td>{'stan': 2.16}</td>\n",
       "      <td>{'manner': 1.7}</td>\n",
       "      <td>{'schizophrenia': 2.3}</td>\n",
       "    </tr>\n",
       "    <tr>\n",
       "      <th>9</th>\n",
       "      <td>{'ocd': 1.6}</td>\n",
       "      <td>{'schizoaffect': 2.18}</td>\n",
       "      <td>{'psychosi': 2.19}</td>\n",
       "      <td>{'bp': 2.8}</td>\n",
       "      <td>{'hypoman': 2.14}</td>\n",
       "      <td>{'louder': 1.69}</td>\n",
       "      <td>{'h': 2.18}</td>\n",
       "    </tr>\n",
       "  </tbody>\n",
       "</table>\n",
       "</div>"
      ],
      "text/plain": [
       "                      PTSD            Schizophrenia                  anxiety  \\\n",
       "0            {'ptsd': 5.1}  {'schizophrenia': 8.24}  {'schizophrenia': 4.06}   \n",
       "1      {'flashback': 3.38}    {'schizophren': 4.11}        {'bipolar': 3.69}   \n",
       "2         {'trauma': 2.74}         {'bipolar': 3.5}           {'voic': 3.22}   \n",
       "3        {'traumat': 2.34}          {'delus': 3.17}         {'anxiou': 3.19}   \n",
       "4           {'rape': 2.31}        {'risperd': 2.51}             {'sh': 2.72}   \n",
       "5           {'emdr': 2.13}          {'manic': 2.41}             {'gad': 2.7}   \n",
       "6  {'schizophrenia': 1.94}       {'psychosi': 2.34}           {'panic': 2.7}   \n",
       "7           {'voic': 1.76}        {'overlap': 2.33}          {'delus': 2.23}   \n",
       "8        {'dissoci': 1.74}          {'depot': 2.31}          {'xanax': 2.23}   \n",
       "9             {'ocd': 1.6}   {'schizoaffect': 2.18}       {'psychosi': 2.19}   \n",
       "\n",
       "                   bipolar              depression           hearing_voices  \\\n",
       "0        {'bipolar': 7.43}  {'schizophrenia': 5.7}           {'voic': 6.07}   \n",
       "1  {'schizophrenia': 6.21}       {'bipolar': 4.17}  {'schizophrenia': 3.43}   \n",
       "2          {'manic': 4.21}          {'voic': 3.43}      {'intervoic': 2.83}   \n",
       "3           {'stan': 3.99}   {'schizophren': 3.21}           {'hear': 2.38}   \n",
       "4           {'voic': 3.13}          {'ptsd': 2.64}        {'dialogu': 2.14}   \n",
       "5    {'schizophren': 2.97}      {'stabilis': 2.35}         {'hearer': 2.03}   \n",
       "6          {'polar': 2.85}     {'grandfath': 2.32}        {'bipolar': 1.94}   \n",
       "7    {'cyclothymia': 2.84}            {'sh': 2.27}          {'shake': 1.92}   \n",
       "8             {'hh': 2.84}          {'stan': 2.16}          {'manner': 1.7}   \n",
       "9              {'bp': 2.8}       {'hypoman': 2.14}         {'louder': 1.69}   \n",
       "\n",
       "                self_harm  \n",
       "0             {'sh': 5.5}  \n",
       "1           {'harm': 4.5}  \n",
       "2          {'scar': 3.61}  \n",
       "3        {'harmer': 3.01}  \n",
       "4            {'si': 2.87}  \n",
       "5           {'urg': 2.73}  \n",
       "6          {'shing': 2.6}  \n",
       "7     {'implement': 2.57}  \n",
       "8  {'schizophrenia': 2.3}  \n",
       "9             {'h': 2.18}  "
      ]
     },
     "execution_count": 184,
     "metadata": {},
     "output_type": "execute_result"
    }
   ],
   "source": [
    "pd.DataFrame(disorder_dict)"
   ]
  },
  {
   "cell_type": "code",
   "execution_count": null,
   "metadata": {},
   "outputs": [],
   "source": [
    "# Analyze each sentence and put negative word on top"
   ]
  },
  {
   "cell_type": "code",
   "execution_count": null,
   "metadata": {},
   "outputs": [],
   "source": [
    "    "
   ]
  },
  {
   "cell_type": "code",
   "execution_count": null,
   "metadata": {},
   "outputs": [],
   "source": [
    "# Try LSA and LDiA with LDA"
   ]
  },
  {
   "cell_type": "code",
   "execution_count": null,
   "metadata": {},
   "outputs": [],
   "source": [
    "# # Data cleaning\n",
    "# from nltk.tokenize import RegexpTokenizer\n",
    "# from collections import Counter\n",
    "\n",
    "# rg_token = RegexpTokenizer(r'\\w+[]\\\\|$[0-9.]+|\\S+')"
   ]
  },
  {
   "cell_type": "code",
   "execution_count": null,
   "metadata": {},
   "outputs": [],
   "source": [
    "# from nltk.tokenize import TreebankWordTokenizer\n",
    "\n",
    "# test_\n",
    "\n",
    "# tree_token = TreebankWordTokenizer()\n",
    "# Counter(tree_token.tokenize(df.dialog[0])).most_common()"
   ]
  },
  {
   "cell_type": "code",
   "execution_count": null,
   "metadata": {},
   "outputs": [],
   "source": []
  }
 ],
 "metadata": {
  "kernelspec": {
   "display_name": "Python 3",
   "language": "python",
   "name": "python3"
  },
  "language_info": {
   "codemirror_mode": {
    "name": "ipython",
    "version": 3
   },
   "file_extension": ".py",
   "mimetype": "text/x-python",
   "name": "python",
   "nbconvert_exporter": "python",
   "pygments_lexer": "ipython3",
   "version": "3.6.0"
  }
 },
 "nbformat": 4,
 "nbformat_minor": 2
}
