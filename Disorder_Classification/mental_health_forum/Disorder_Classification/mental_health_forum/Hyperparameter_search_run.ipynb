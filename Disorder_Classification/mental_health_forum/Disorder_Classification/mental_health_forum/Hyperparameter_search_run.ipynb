{
 "cells": [
  {
   "cell_type": "code",
   "execution_count": 4,
   "metadata": {},
   "outputs": [
    {
     "name": "stdout",
     "output_type": "stream",
     "text": [
      "Fitting model: {'tokenizer': 'plain', 'tfidf': True, 'multiclass': 'OnevsRest', 'min_rate': 0.0014285714285714286, 'max_rate': 0.14285714285714285, 'classifier': 'MultinomialNB', 'binary': True, 'balanced': False}\n",
      "saving csv up to index:0...\n"
     ]
    }
   ],
   "source": [
    "from hyperparameter_search import main\n",
    "from sklearn.model_selection import ParameterGrid\n",
    "\n",
    "# Prepare data and label\n",
    "cat_num = 7\n",
    "max_rate = 1/cat_num\n",
    "min_rate = 1/(100*cat_num)\n",
    "\n",
    "params = {\n",
    "        'tokenizer': ['plain', 'spell'],\n",
    "        'tfidf': [True, False],\n",
    "        'binary': [True, False],\n",
    "        'balanced': [False],\n",
    "        'min_rate': [min_rate, min_rate / 2],\n",
    "        'max_rate': [max_rate, max_rate / 2],\n",
    "        'classifier': ['MultinomialNB', 'LinearSVM', 'LDA'],\n",
    "        'multiclass': ['OnevsRest']\n",
    "    }\n",
    "\n",
    "param_grid = ParameterGrid(params)\n",
    "\n",
    "main(0, param_grid[0])"
   ]
  },
  {
   "cell_type": "code",
   "execution_count": null,
   "metadata": {},
   "outputs": [],
   "source": [
    "main(1, param_grid[1])"
   ]
  },
  {
   "cell_type": "code",
   "execution_count": null,
   "metadata": {},
   "outputs": [],
   "source": [
    "try:\n",
    "    hyperpara_search = pd.read_csv(search_path+f'/result{timestamp}.csv', usecols=np.arange(1, 11))\n",
    "except:\n",
    "    columns = list(params.keys()) + ['train_f1', 'dev_f1']\n",
    "    hyperpara_search = pd.DataFrame(data=None, columns=columns)\n",
    "\n",
    "# # generate vector data\n",
    "# vec_gen(train_data, dev_data, param, f'param_grid_{i}')\n",
    "\n",
    "train_pred, dev_pred = training(train_data, dev_data, param_grid[1])\n",
    "param['train_f1'] = f1_class(train_data['encoded_label'], train_pred)\n",
    "param['dev_f1'] = f1_class(dev_data['encoded_label'], dev_pred)\n",
    "single_entry = pd.Series(param)\n",
    "\n",
    "hyperpara_search = hyperpara_search.append(single_entry, ignore_index=True)\n",
    "\n",
    "if i % 5 == 0:\n",
    "    print(f'saving csv up to index:{i}...')\n",
    "    hyperpara_search.to_csv(search_path+f'/result{timestamp}.csv')"
   ]
  },
  {
   "cell_type": "code",
   "execution_count": null,
   "metadata": {},
   "outputs": [],
   "source": []
  },
  {
   "cell_type": "code",
   "execution_count": null,
   "metadata": {},
   "outputs": [],
   "source": []
  }
 ],
 "metadata": {
  "kernelspec": {
   "display_name": "Python 3",
   "language": "python",
   "name": "python3"
  },
  "language_info": {
   "codemirror_mode": {
    "name": "ipython",
    "version": 3
   },
   "file_extension": ".py",
   "mimetype": "text/x-python",
   "name": "python",
   "nbconvert_exporter": "python",
   "pygments_lexer": "ipython3",
   "version": "3.7.0"
  }
 },
 "nbformat": 4,
 "nbformat_minor": 2
}
